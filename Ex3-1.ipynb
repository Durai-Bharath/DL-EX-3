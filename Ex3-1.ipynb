{
 "cells": [
  {
   "cell_type": "code",
   "execution_count": 24,
   "id": "6272879c-8710-40d7-a428-e2804e0f9a01",
   "metadata": {},
   "outputs": [],
   "source": [
    "import torch\n",
    "import torch.nn as nn\n",
    "import torch.optim as optim\n",
    "import torchvision.datasets as datasets\n",
    "import torchvision.transforms as transforms\n",
    "import matplotlib.pyplot as plt\n",
    "import numpy as np"
   ]
  },
  {
   "cell_type": "code",
   "execution_count": 25,
   "id": "9ee32dd1-60cf-4f6b-bbb5-408f2b280e0d",
   "metadata": {},
   "outputs": [],
   "source": [
    "train_transforms = transforms.Compose([\n",
    "    transforms.Resize((64, 64)),\n",
    "    transforms.RandomHorizontalFlip(),\n",
    "    transforms.ToTensor(),\n",
    "])\n",
    "\n",
    "test_transforms = transforms.Compose([\n",
    "    transforms.Resize((64, 64)),\n",
    "    transforms.ToTensor(),\n",
    "])\n",
    "\n",
    "train_dataset = datasets.ImageFolder('image/Pistachio_Image_Dataset/train', transform=train_transforms)\n",
    "test_dataset = datasets.ImageFolder('image/Pistachio_Image_Dataset/test', transform=test_transforms)\n",
    "\n",
    "train_loader = torch.utils.data.DataLoader(train_dataset, batch_size=32, shuffle=True)\n",
    "test_loader = torch.utils.data.DataLoader(test_dataset, batch_size=32, shuffle=False)"
   ]
  },
  {
   "cell_type": "code",
   "execution_count": 26,
   "id": "327df0f0-e60f-4153-9144-156791e11fb7",
   "metadata": {},
   "outputs": [],
   "source": [
    "class RBFNet(nn.Module):\n",
    "    def __init__(self, input_size, hidden_size, output_size):\n",
    "        super(RBFNet, self).__init__()\n",
    "        self.hidden = nn.Linear(input_size, hidden_size)\n",
    "        self.output = nn.Linear(hidden_size, output_size)\n",
    "        self.rbf = nn.Sequential(\n",
    "            nn.Linear(hidden_size, hidden_size),\n",
    "            nn.ReLU(),\n",
    "            nn.Linear(hidden_size, hidden_size),\n",
    "            nn.ReLU(),\n",
    "            nn.Linear(hidden_size, hidden_size),\n",
    "            nn.ReLU(),\n",
    "            nn.Linear(hidden_size, output_size),\n",
    "        )\n",
    "\n",
    "    def forward(self, x):\n",
    "        x = self.hidden(x)\n",
    "        x = torch.tanh(x)\n",
    "        x = self.rbf(x)\n",
    "        return x"
   ]
  },
  {
   "cell_type": "code",
   "execution_count": 27,
   "id": "04251630-b7ae-4025-8344-85c9460bd363",
   "metadata": {},
   "outputs": [],
   "source": [
    "# input_size = 64 * 64 * 3\n",
    "# hidden_size = 100\n",
    "# output_size = 2\n",
    "\n",
    "# rbf_net = RBFNet(input_size, hidden_size, output_size)\n",
    "# criterion = nn.CrossEntropyLoss()\n",
    "# optimizer = optim.Adam(rbf_net.parameters(), lr=0.001)\n",
    "\n",
    "# num_epochs = 10\n",
    "\n",
    "# for epoch in range(num_epochs):\n",
    "#     train_loss = 0.0\n",
    "#     train_correct = 0\n",
    "#     train_total = 0\n",
    "\n",
    "#     for inputs, labels in train_loader:\n",
    "#         inputs = inputs.view(-1, input_size)\n",
    "#         optimizer.zero_grad()\n",
    "#         outputs = rbf_net(inputs)\n",
    "#         loss = criterion(outputs, labels)\n",
    "#         loss.backward()\n",
    "#         optimizer.step()\n",
    "\n",
    "#         train_loss += loss.item() * inputs.size(0)\n",
    "#         _, predicted = torch.max(outputs.data, 1)\n",
    "#         train_total += labels.size(0)\n",
    "#         train_correct += (predicted == labels).sum().item()\n",
    "#         # print(\"predicted value :\",predicted,\"  train loss :\",train_loss,\"\\n\")\n",
    "    \n",
    "#     train_loss /= len(train_loader.dataset)\n",
    "#     print(\"predicted :\",predicted,\"\\n\",\"train correct :\",train_correct,\"\\n\",\"train total :\",train_total,\"\\n\")\n",
    "#     print(train_loss ,\"\\n\")\n"
   ]
  },
  {
   "cell_type": "code",
   "execution_count": 33,
   "id": "7d73ba29-4f06-4054-99b7-d91550a2579d",
   "metadata": {},
   "outputs": [
    {
     "name": "stdout",
     "output_type": "stream",
     "text": [
      "Epoch 1/10, train loss: 0.5485, train acc: 0.7312, val loss: 0.4063, val acc: 0.8201\n",
      "Epoch 2/10, train loss: 0.4433, train acc: 0.8002, val loss: 0.3844, val acc: 0.8338\n",
      "Epoch 3/10, train loss: 0.4556, train acc: 0.7905, val loss: 0.4315, val acc: 0.8083\n",
      "Epoch 4/10, train loss: 0.4330, train acc: 0.8028, val loss: 0.3756, val acc: 0.8387\n",
      "Epoch 5/10, train loss: 0.4101, train acc: 0.8267, val loss: 0.3770, val acc: 0.8407\n",
      "Epoch 6/10, train loss: 0.4484, train acc: 0.8002, val loss: 0.3802, val acc: 0.8358\n",
      "Epoch 7/10, train loss: 0.4189, train acc: 0.8161, val loss: 0.4320, val acc: 0.8142\n",
      "Epoch 8/10, train loss: 0.4285, train acc: 0.8179, val loss: 0.3922, val acc: 0.8437\n",
      "Epoch 9/10, train loss: 0.4077, train acc: 0.8258, val loss: 0.3928, val acc: 0.8319\n",
      "Epoch 10/10, train loss: 0.4101, train acc: 0.8152, val loss: 0.3867, val acc: 0.8378\n"
     ]
    }
   ],
   "source": [
    "input_size = 64 * 64 * 3\n",
    "hidden_size = 100\n",
    "output_size = 2\n",
    "train_loss_history = []\n",
    "train_acc_history = []\n",
    "val_loss_history = []\n",
    "val_acc_history = []\n",
    "\n",
    "rbf_net = RBFNet(input_size, hidden_size, output_size)\n",
    "criterion = nn.CrossEntropyLoss()\n",
    "optimizer = optim.Adam(rbf_net.parameters(), lr=0.001)\n",
    "\n",
    "num_epochs = 10\n",
    "for epoch in range(num_epochs):\n",
    "    train_loss = 0.0\n",
    "    train_acc = 0.0\n",
    "    val_loss = 0.0\n",
    "    val_acc = 0.0\n",
    "\n",
    "    for inputs, labels in train_loader:\n",
    "        inputs = inputs.view(-1, input_size)\n",
    "        optimizer.zero_grad()\n",
    "        outputs = rbf_net(inputs)\n",
    "        loss = criterion(outputs, labels)\n",
    "        loss.backward()\n",
    "        optimizer.step()\n",
    "        train_loss += loss.item()\n",
    "        train_acc += (outputs.argmax(1) == labels).sum().item()\n",
    "\n",
    "    train_loss /= len(train_loader)\n",
    "    train_loss_history.append(train_loss)\n",
    "    train_acc /= len(train_loader.dataset)\n",
    "    train_acc_history.append(train_acc)\n",
    "\n",
    "    with torch.no_grad():\n",
    "        for inputs, labels in test_loader:\n",
    "            inputs = inputs.view(-1, input_size)\n",
    "            outputs = rbf_net(inputs)\n",
    "            loss = criterion(outputs, labels)\n",
    "            val_loss += loss.item()\n",
    "            val_acc += (outputs.argmax(1) == labels).sum().item()\n",
    "\n",
    "    val_loss /= len(test_loader)\n",
    "    val_loss_history.append(val_loss)\n",
    "    val_acc /= len(test_loader.dataset)\n",
    "    val_acc_history.append(val_acc)\n",
    "\n",
    "    print(f'Epoch {epoch+1}/{num_epochs}, train loss: {train_loss:.4f}, train acc: {train_acc:.4f}, val loss: {val_loss:.4f}, val acc: {val_acc:.4f}')"
   ]
  },
  {
   "cell_type": "code",
   "execution_count": 58,
   "id": "d38583b4-3f6a-459f-b9c0-f4864f957b01",
   "metadata": {},
   "outputs": [
    {
     "name": "stdout",
     "output_type": "stream",
     "text": [
      "0\n"
     ]
    },
    {
     "data": {
      "image/png": "[encoded data removed]",
      "text/plain": [
       "<Figure size 640x480 with 1 Axes>"
      ]
     },
     "metadata": {},
     "output_type": "display_data"
    }
   ],
   "source": [
    "img, label = test_dataset[100]\n",
    "plt.imshow(img.permute((1, 2, 0)))\n",
    "print(label)\n",
    "#780"
   ]
  },
  {
   "cell_type": "code",
   "execution_count": 45,
   "id": "16c35f44-c78e-4580-919b-89debd91211d",
   "metadata": {},
   "outputs": [],
   "source": [
    "from PIL import Image\n",
    "from torch import nn, save, load"
   ]
  },
  {
   "cell_type": "code",
   "execution_count": 59,
   "id": "7c0fd17c-efef-47c6-9354-b99e3ca42ab5",
   "metadata": {},
   "outputs": [
    {
     "name": "stdout",
     "output_type": "stream",
     "text": [
      "tensor(0)\n"
     ]
    }
   ],
   "source": [
    "from torchvision.transforms import ToTensor\n",
    "# img = Image.open('horse.jpeg') \n",
    "input_size = 64 * 64 * 3\n",
    "# plt.imshow(img)\n",
    "img,label = test_dataset[100]\n",
    "img = img.view(-1, input_size)\n",
    "img = np.array(img)\n",
    "# img = img.resize((1, 32, 32, 3))\n",
    "img_tensor = ToTensor()(img).unsqueeze(0)\n",
    "print(torch.argmax(rbf_net(img_tensor)))"
   ]
  },
  {
   "cell_type": "code",
   "execution_count": null,
   "id": "3f21d175-6f21-476d-a8ab-27cbbf2ec7ba",
   "metadata": {},
   "outputs": [],
   "source": []
  },
  {
   "cell_type": "code",
   "execution_count": null,
   "id": "b494fc13-30e9-4c77-ba53-992f72de750d",
   "metadata": {},
   "outputs": [],
   "source": []
  }
 ],
 "metadata": {
  "kernelspec": {
   "display_name": "Python 3 (ipykernel)",
   "language": "python",
   "name": "python3"
  },
  "language_info": {
   "codemirror_mode": {
    "name": "ipython",
    "version": 3
   },
   "file_extension": ".py",
   "mimetype": "text/x-python",
   "name": "python",
   "nbconvert_exporter": "python",
   "pygments_lexer": "ipython3",
   "version": "3.9.15"
  }
 },
 "nbformat": 4,
 "nbformat_minor": 5
}
