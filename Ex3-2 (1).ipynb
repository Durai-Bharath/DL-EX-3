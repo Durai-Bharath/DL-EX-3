{
 "cells": [
  {
   "cell_type": "code",
   "execution_count": 28,
   "id": "ec142519-66fa-48f9-b14f-1a8e0555533c",
   "metadata": {},
   "outputs": [],
   "source": [
    "import tensorflow as tf\n",
    "from tensorflow import keras\n",
    "from tensorflow.keras.layers import Dense\n",
    "import warnings\n",
    "warnings.filterwarnings('ignore')\n",
    "class RBFLayer(keras.layers.Layer):\n",
    "    def __init__(self,hidden_dim,s):\n",
    "        super(RBFLayer, self).__init__()\n",
    "        self.hidden_dim = hidden_dim\n",
    "        self.s = s\n",
    "        self.centers = self.add_weight(name='centers',\n",
    "                                       shape=(self.hidden_dim,10),\n",
    "                                       initializer='uniform',\n",
    "                                       trainable=True)\n",
    "    def formula(self,x,y):\n",
    "        return torch.exp(-self.s * (x - y).pow(2).sum(dim=1))\n",
    "\n",
    "    def forward(self,x):\n",
    "        a = self.formula(x, self.centers)\n",
    "        return a"
   ]
  },
  {
   "cell_type": "code",
   "execution_count": 33,
   "id": "7049e7e6-2afe-450a-9586-9aaa1e5520aa",
   "metadata": {},
   "outputs": [
    {
     "name": "stdout",
     "output_type": "stream",
     "text": [
      "Epoch 1/10\n",
      "WARNING:tensorflow:Gradients do not exist for variables ['centers:0'] when minimizing the loss.\n",
      "WARNING:tensorflow:Gradients do not exist for variables ['centers:0'] when minimizing the loss.\n",
      "7/7 [==============================] - 1s 36ms/step - loss: -2.6245 - accuracy: 0.3317 - val_loss: -3.1867 - val_accuracy: 0.3317\n",
      "Epoch 2/10\n",
      "7/7 [==============================] - 0s 12ms/step - loss: -3.5220 - accuracy: 0.3317 - val_loss: -4.0903 - val_accuracy: 0.3317\n",
      "Epoch 3/10\n",
      "7/7 [==============================] - 0s 12ms/step - loss: -4.4319 - accuracy: 0.3317 - val_loss: -4.9986 - val_accuracy: 0.3317\n",
      "Epoch 4/10\n",
      "7/7 [==============================] - 0s 10ms/step - loss: -5.3758 - accuracy: 0.3317 - val_loss: -5.9690 - val_accuracy: 0.3317\n",
      "Epoch 5/10\n",
      "7/7 [==============================] - 0s 11ms/step - loss: -6.3587 - accuracy: 0.3317 - val_loss: -7.0060 - val_accuracy: 0.3317\n",
      "Epoch 6/10\n",
      "7/7 [==============================] - 0s 11ms/step - loss: -7.3728 - accuracy: 0.3317 - val_loss: -8.0462 - val_accuracy: 0.3317\n",
      "Epoch 7/10\n",
      "7/7 [==============================] - 0s 11ms/step - loss: -8.4336 - accuracy: 0.3317 - val_loss: -9.0466 - val_accuracy: 0.3317\n",
      "Epoch 8/10\n",
      "7/7 [==============================] - 0s 11ms/step - loss: -9.4213 - accuracy: 0.3317 - val_loss: -10.0517 - val_accuracy: 0.3317\n",
      "Epoch 9/10\n",
      "7/7 [==============================] - 0s 11ms/step - loss: -10.4197 - accuracy: 0.3317 - val_loss: -11.0209 - val_accuracy: 0.3317\n",
      "Epoch 10/10\n",
      "7/7 [==============================] - 0s 10ms/step - loss: -11.3821 - accuracy: 0.3317 - val_loss: -11.9913 - val_accuracy: 0.3317\n"
     ]
    },
    {
     "data": {
      "text/plain": [
       "<keras.callbacks.History at 0x277ff6ef460>"
      ]
     },
     "execution_count": 33,
     "metadata": {},
     "output_type": "execute_result"
    }
   ],
   "source": [
    "model = keras.Sequential([\n",
    "    Dense(10, input_shape=(7,), activation='relu'),\n",
    "    RBFLayer(10,0.02),\n",
    "    Dense(1, activation='sigmoid')\n",
    "])\n",
    "\n",
    "model.compile(loss='binary_crossentropy', optimizer='adam',metrics=['accuracy'])\n",
    "\n",
    "import numpy as np\n",
    "import pandas as pd\n",
    "data = pd.read_csv(\"seeds.csv\")\n",
    "data.columns\n",
    "x = data.iloc[:,:-1]\n",
    "y = data.iloc[:,-1]\n",
    "\n",
    "model.fit(x, y,validation_data=(x, y), epochs=10, batch_size=32)\n"
   ]
  },
  {
   "cell_type": "code",
   "execution_count": 21,
   "id": "c054a7b8-7a10-4dbc-b670-d77fbfbc7bd7",
   "metadata": {},
   "outputs": [
    {
     "data": {
      "text/plain": [
       "0      1\n",
       "1      1\n",
       "2      1\n",
       "3      1\n",
       "4      1\n",
       "      ..\n",
       "194    3\n",
       "195    3\n",
       "196    3\n",
       "197    3\n",
       "198    3\n",
       "Name: Type, Length: 199, dtype: int64"
      ]
     },
     "execution_count": 21,
     "metadata": {},
     "output_type": "execute_result"
    }
   ],
   "source": [
    "import numpy as np\n",
    "import pandas as pd\n",
    "data = pd.read_csv(\"seeds.csv\")\n",
    "data.columns\n",
    "x = data.iloc[:,:-1]\n",
    "y = data.iloc[:,-1]\n"
   ]
  },
  {
   "cell_type": "code",
   "execution_count": null,
   "id": "7e063210-f8ba-4c40-9428-b5288f07c026",
   "metadata": {},
   "outputs": [],
   "source": []
  },
  {
   "cell_type": "code",
   "execution_count": 31,
   "id": "257e0489-13ca-4404-b63a-0cea5aee579b",
   "metadata": {},
   "outputs": [
    {
     "name": "stdout",
     "output_type": "stream",
     "text": [
      "Epoch 1/10\n",
      "4/4 [==============================] - 0s 6ms/step - loss: 0.6762\n",
      "Epoch 2/10\n",
      "4/4 [==============================] - 0s 6ms/step - loss: 0.6749\n",
      "Epoch 3/10\n",
      "4/4 [==============================] - 0s 5ms/step - loss: 0.6733\n",
      "Epoch 4/10\n",
      "4/4 [==============================] - 0s 6ms/step - loss: 0.6724\n",
      "Epoch 5/10\n",
      "4/4 [==============================] - 0s 5ms/step - loss: 0.6712\n",
      "Epoch 6/10\n",
      "4/4 [==============================] - 0s 6ms/step - loss: 0.6702\n",
      "Epoch 7/10\n",
      "4/4 [==============================] - 0s 5ms/step - loss: 0.6694\n",
      "Epoch 8/10\n",
      "4/4 [==============================] - 0s 5ms/step - loss: 0.6686\n",
      "Epoch 9/10\n",
      "4/4 [==============================] - 0s 5ms/step - loss: 0.6678\n",
      "Epoch 10/10\n",
      "4/4 [==============================] - 0s 5ms/step - loss: 0.6670\n"
     ]
    },
    {
     "data": {
      "text/plain": [
       "<keras.callbacks.History at 0x1fd7cf605e0>"
      ]
     },
     "execution_count": 31,
     "metadata": {},
     "output_type": "execute_result"
    }
   ],
   "source": [
    "import tensorflow as tf\n",
    "from tensorflow import keras\n",
    "from tensorflow.keras.layers import Dense\n",
    "\n",
    "class RBFLayer(keras.layers.Layer):\n",
    "    def __init__(self, units, gamma):\n",
    "        super(RBFLayer, self).__init__()\n",
    "        self.units = units\n",
    "        self.gamma = gamma\n",
    "\n",
    "    def build(self, input_shape):\n",
    "        self.centers = self.add_weight(name='centers',\n",
    "                                       shape=(self.units, input_shape[1]),\n",
    "                                       initializer='uniform',\n",
    "                                       trainable=True)\n",
    "        super(RBFLayer, self).build(input_shape)\n",
    "\n",
    "    def call(self, inputs):\n",
    "        diff = tf.expand_dims(inputs, axis=1) - self.centers\n",
    "        squared_diff = tf.reduce_sum(tf.square(diff), axis=-1)\n",
    "        return tf.exp(-self.gamma * squared_diff)\n",
    "\n",
    "model = keras.Sequential([\n",
    "    Dense(10, input_shape=(2,), activation='relu'),\n",
    "    RBFLayer(10, gamma=0.1),\n",
    "    Dense(1, activation='sigmoid')\n",
    "])\n",
    "\n",
    "model.compile(loss='binary_crossentropy', optimizer='adam')\n",
    "\n",
    "import numpy as np\n",
    "X = np.random.randn(100, 2)\n",
    "y = (X[:, 0] * X[:, 1] > 0).astype(float)\n",
    "model.fit(X, y, epochs=10, batch_size=32)\n"
   ]
  },
  {
   "cell_type": "code",
   "execution_count": null,
   "id": "a2e19e27-d9bc-44f7-a652-ce4aa0e9c74b",
   "metadata": {},
   "outputs": [],
   "source": []
  },
  {
   "cell_type": "code",
   "execution_count": null,
   "id": "d5152959-166e-449d-858d-f249de26281a",
   "metadata": {},
   "outputs": [],
   "source": []
  }
 ],
 "metadata": {
  "kernelspec": {
   "display_name": "Python 3 (ipykernel)",
   "language": "python",
   "name": "python3"
  },
  "language_info": {
   "codemirror_mode": {
    "name": "ipython",
    "version": 3
   },
   "file_extension": ".py",
   "mimetype": "text/x-python",
   "name": "python",
   "nbconvert_exporter": "python",
   "pygments_lexer": "ipython3",
   "version": "3.9.15"
  }
 },
 "nbformat": 4,
 "nbformat_minor": 5
}
