{
 "cells": [
  {
   "cell_type": "code",
   "execution_count": 41,
   "id": "456f37de-9b0d-4e8c-87e2-9b695887b7f5",
   "metadata": {},
   "outputs": [],
   "source": [
    "import torch\n",
    "import torch.nn as nn\n",
    "import torch.optim as optim\n",
    "import torchvision.datasets as datasets\n",
    "import torchvision.transforms as transforms\n",
    "import matplotlib.pyplot as plt\n",
    "import numpy as np"
   ]
  },
  {
   "cell_type": "code",
   "execution_count": 42,
   "id": "e04fd4c5-86f7-445a-b20f-79326ed9188d",
   "metadata": {},
   "outputs": [
    {
     "data": {
      "text/plain": [
       "device(type='cuda')"
      ]
     },
     "execution_count": 42,
     "metadata": {},
     "output_type": "execute_result"
    }
   ],
   "source": [
    "device = torch.device('cuda' if torch.cuda.is_available() else 'cpu')\n",
    "device"
   ]
  },
  {
   "cell_type": "code",
   "execution_count": 43,
   "id": "ef033646-4965-4d12-b1c7-be8c78ccfaad",
   "metadata": {},
   "outputs": [],
   "source": [
    "train_transforms = transforms.Compose([\n",
    "    transforms.Resize((64, 64)),\n",
    "    transforms.RandomHorizontalFlip(),\n",
    "    transforms.ToTensor(),\n",
    "])\n",
    "\n",
    "test_transforms = transforms.Compose([\n",
    "    transforms.Resize((64, 64)),\n",
    "    transforms.ToTensor(),\n",
    "])\n",
    "\n",
    "train_dataset = datasets.ImageFolder('image/Pistachio_Image_Dataset/train', transform=train_transforms)\n",
    "test_dataset = datasets.ImageFolder('image/Pistachio_Image_Dataset/test', transform=test_transforms)\n",
    "\n",
    "train_loader = torch.utils.data.DataLoader(train_dataset, batch_size=32, shuffle=True,generator=torch.Generator(device='cuda'))\n",
    "test_loader = torch.utils.data.DataLoader(test_dataset, batch_size=32, shuffle=False,generator=torch.Generator(device='cuda'))"
   ]
  },
  {
   "cell_type": "code",
   "execution_count": 44,
   "id": "438361ff-ed13-466f-bf14-9c21a2207a8c",
   "metadata": {},
   "outputs": [],
   "source": [
    "class RBFNet(nn.Module):\n",
    "    def __init__(self, input_dim, hidden_dim, output_dim):\n",
    "        super(RBFNet, self).__init__()\n",
    "        self.first_layer = nn.Linear(input_dim,hidden_dim)\n",
    "        self.hidden_layer = nn.Linear(hidden_dim,output_dim)\n",
    "        self.input_dim = input_dim\n",
    "        self.hidden_dim = hidden_dim\n",
    "        self.s = 0.02\n",
    "        self.centers = nn.Parameter(torch.randn(input_dim,hidden_dim))\n",
    "        # print(self.centers)\n",
    "    def formula(self,x,y):\n",
    "        return torch.exp(-self.s * (x.unsqueeze(1) - y).pow(2).sum(dim=1))\n",
    "\n",
    "    def forward(self,x):\n",
    "        x = x.view(-1, 12288)\n",
    "        x = self.first_layer(x)\n",
    "        x = self.hidden_layer(x)\n",
    "        # print(out3.unsqueeze(1))\n",
    "        a = self.formula(x, self.centers)\n",
    "        return a"
   ]
  },
  {
   "cell_type": "code",
   "execution_count": 45,
   "id": "7cf13d99-abdf-4cc9-941d-068f26c5980d",
   "metadata": {},
   "outputs": [],
   "source": [
    "input_size = 64 * 64 * 3\n",
    "hidden_size = 10\n",
    "output_size = 10\n",
    "train_loss_history = []\n",
    "train_acc_history = []\n",
    "val_loss_history = []\n",
    "val_acc_history = []\n"
   ]
  },
  {
   "cell_type": "code",
   "execution_count": 46,
   "id": "db406a24-a720-41f6-b2d8-e0c8a15812f6",
   "metadata": {},
   "outputs": [
    {
     "name": "stdout",
     "output_type": "stream",
     "text": [
      "Epoch 1/10, train loss: 2.3026, train acc: 0.5729, val loss: 2.3026, val acc: 0.5742\n",
      "Epoch 2/10, train loss: 2.3026, train acc: 0.5729, val loss: 2.3026, val acc: 0.5742\n",
      "Epoch 3/10, train loss: 2.3026, train acc: 0.5729, val loss: 2.3026, val acc: 0.5742\n",
      "Epoch 4/10, train loss: 2.3026, train acc: 0.5729, val loss: 2.3026, val acc: 0.5742\n",
      "Epoch 5/10, train loss: 2.3026, train acc: 0.5729, val loss: 2.3026, val acc: 0.5742\n",
      "Epoch 6/10, train loss: 2.3026, train acc: 0.5729, val loss: 2.3026, val acc: 0.5742\n",
      "Epoch 7/10, train loss: 2.3026, train acc: 0.5729, val loss: 2.3026, val acc: 0.5742\n",
      "Epoch 8/10, train loss: 2.3026, train acc: 0.5729, val loss: 2.3026, val acc: 0.5742\n",
      "Epoch 9/10, train loss: 2.3026, train acc: 0.5729, val loss: 2.3026, val acc: 0.5742\n",
      "Epoch 10/10, train loss: 2.3026, train acc: 0.5729, val loss: 2.3026, val acc: 0.5742\n"
     ]
    }
   ],
   "source": [
    "rbf_net = RBFNet(input_size, hidden_size, output_size)\n",
    "rbf_net =  rbf_net.to(device)\n",
    "criterion = nn.CrossEntropyLoss()\n",
    "optimizer = optim.SGD(rbf_net.parameters(), lr=0.001)\n",
    "\n",
    "num_epochs = 10\n",
    "for epoch in range(num_epochs):\n",
    "    train_loss = 0.0\n",
    "    train_acc = 0.0\n",
    "    val_loss = 0.0\n",
    "    val_acc = 0.0\n",
    "\n",
    "    for inputs, labels in train_loader:\n",
    "        inputs = inputs.to(device)\n",
    "        labels = labels.to(device)\n",
    "        inputs = inputs.view(-1, input_size)\n",
    "        optimizer.zero_grad()\n",
    "        outputs = rbf_net(inputs)\n",
    "        loss = criterion(outputs, labels)\n",
    "        loss.backward()\n",
    "        optimizer.step()\n",
    "        train_loss += loss.item()\n",
    "        train_acc += (outputs.argmax(1) == labels).sum().item()\n",
    "\n",
    "    train_loss /= len(train_loader)\n",
    "    train_loss_history.append(train_loss)\n",
    "    train_acc /= len(train_loader.dataset)\n",
    "    train_acc_history.append(train_acc)\n",
    "\n",
    "    with torch.no_grad():\n",
    "        for inputs, labels in test_loader:\n",
    "            inputs = inputs.to(device)\n",
    "            labels = labels.to(device)\n",
    "            inputs = inputs.view(-1, input_size)\n",
    "            outputs = rbf_net(inputs)\n",
    "            loss = criterion(outputs, labels)\n",
    "            val_loss += loss.item()\n",
    "            val_acc += (outputs.argmax(1) == labels).sum().item()\n",
    "\n",
    "    val_loss /= len(test_loader)\n",
    "    val_loss_history.append(val_loss)\n",
    "    val_acc /= len(test_loader.dataset)\n",
    "    val_acc_history.append(val_acc)\n",
    "\n",
    "    print(f'Epoch {epoch+1}/{num_epochs}, train loss: {train_loss:.4f}, train acc: {train_acc:.4f}, val loss: {val_loss:.4f}, val acc: {val_acc:.4f}')"
   ]
  },
  {
   "cell_type": "code",
   "execution_count": 47,
   "id": "da26a954-a593-4e75-b5a0-29bffa514b11",
   "metadata": {},
   "outputs": [
    {
     "name": "stdout",
     "output_type": "stream",
     "text": [
      "1\n"
     ]
    },
    {
     "data": {
      "image/png": "[encoded data removed]",
      "text/plain": [
       "<Figure size 640x480 with 1 Axes>"
      ]
     },
     "metadata": {},
     "output_type": "display_data"
    }
   ],
   "source": [
    "img, label = test_dataset[950]\n",
    "plt.imshow(img.permute((1, 2, 0)))\n",
    "print(label)"
   ]
  },
  {
   "cell_type": "code",
   "execution_count": 48,
   "id": "8dd1cb2b-3187-4acb-8fd2-1505adc490ed",
   "metadata": {},
   "outputs": [],
   "source": [
    "from PIL import Image\n",
    "from torch import nn, save, load"
   ]
  },
  {
   "cell_type": "code",
   "execution_count": 61,
   "id": "7153c75d-48b0-4d35-8ff2-25232e737dbc",
   "metadata": {},
   "outputs": [
    {
     "name": "stdout",
     "output_type": "stream",
     "text": [
      "tensor(0)\n"
     ]
    }
   ],
   "source": [
    "from torchvision.transforms import ToTensor\n",
    "# img = Image.open('horse.jpeg') \n",
    "input_size = 64 * 64 * 3\n",
    "# plt.imshow(img)\n",
    "img,label = test_dataset[239]\n",
    "# img = img.to(device)\n",
    "# label = label.to(device)\n",
    "img = img.view(-1, input_size)\n",
    "img = np.array(img)\n",
    "# img = img.resize((1, 32, 32, 3))\n",
    "img_tensor = ToTensor()(img).unsqueeze(0).to(device)\n",
    "print(torch.argmax(rbf_net(img_tensor)))"
   ]
  },
  {
   "cell_type": "code",
   "execution_count": null,
   "id": "a729876f-451d-49a6-8541-e0828c540abb",
   "metadata": {},
   "outputs": [],
   "source": []
  },
  {
   "cell_type": "code",
   "execution_count": null,
   "id": "6a9bb777-6692-4207-99cd-4dc6f99f1ac1",
   "metadata": {},
   "outputs": [],
   "source": []
  }
 ],
 "metadata": {
  "kernelspec": {
   "display_name": "Python 3 (ipykernel)",
   "language": "python",
   "name": "python3"
  },
  "language_info": {
   "codemirror_mode": {
    "name": "ipython",
    "version": 3
   },
   "file_extension": ".py",
   "mimetype": "text/x-python",
   "name": "python",
   "nbconvert_exporter": "python",
   "pygments_lexer": "ipython3",
   "version": "3.9.15"
  }
 },
 "nbformat": 4,
 "nbformat_minor": 5
}
